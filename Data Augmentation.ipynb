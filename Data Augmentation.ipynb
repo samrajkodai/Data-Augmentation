{
 "cells": [
  {
   "cell_type": "code",
   "execution_count": 16,
   "id": "5781f90a",
   "metadata": {},
   "outputs": [],
   "source": [
    "from tensorflow.keras.preprocessing.image import ImageDataGenerator,array_to_img,img_to_array,load_img"
   ]
  },
  {
   "cell_type": "code",
   "execution_count": 17,
   "id": "c4f9dc7e",
   "metadata": {},
   "outputs": [],
   "source": [
    "datagen=ImageDataGenerator(\n",
    "    rotation_range=20,\n",
    "    width_shift_range=0.2,\n",
    "    height_shift_range=0.2,\n",
    "    shear_range=0.2,\n",
    "    zoom_range=0.2,\n",
    "    channel_shift_range=0.0,\n",
    "    fill_mode='nearest',\n",
    "    cval=0.0,\n",
    "    horizontal_flip=True,\n",
    "    vertical_flip=True,\n",
    "    rescale=None,\n",
    ")"
   ]
  },
  {
   "cell_type": "code",
   "execution_count": 18,
   "id": "50dcb22e",
   "metadata": {},
   "outputs": [],
   "source": [
    "img=load_img(\"photo-1583083527882-4bee9aba2eea.jpg\")"
   ]
  },
  {
   "cell_type": "code",
   "execution_count": 19,
   "id": "df08ba34",
   "metadata": {},
   "outputs": [],
   "source": [
    "x=img_to_array(img)"
   ]
  },
  {
   "cell_type": "code",
   "execution_count": 20,
   "id": "a4def5a9",
   "metadata": {},
   "outputs": [
    {
     "data": {
      "text/plain": [
       "array([[[202., 203., 207.],\n",
       "        [202., 203., 207.],\n",
       "        [202., 203., 207.],\n",
       "        ...,\n",
       "        [199., 198., 203.],\n",
       "        [199., 198., 203.],\n",
       "        [199., 198., 203.]],\n",
       "\n",
       "       [[202., 203., 207.],\n",
       "        [202., 203., 207.],\n",
       "        [202., 203., 207.],\n",
       "        ...,\n",
       "        [199., 198., 203.],\n",
       "        [199., 198., 203.],\n",
       "        [199., 198., 203.]],\n",
       "\n",
       "       [[202., 203., 207.],\n",
       "        [202., 203., 207.],\n",
       "        [202., 203., 207.],\n",
       "        ...,\n",
       "        [199., 198., 203.],\n",
       "        [199., 198., 203.],\n",
       "        [199., 198., 203.]],\n",
       "\n",
       "       ...,\n",
       "\n",
       "       [[195., 194., 199.],\n",
       "        [194., 193., 198.],\n",
       "        [194., 193., 198.],\n",
       "        ...,\n",
       "        [ 40.,  23.,   7.],\n",
       "        [ 42.,  25.,   9.],\n",
       "        [ 41.,  24.,   8.]],\n",
       "\n",
       "       [[195., 194., 199.],\n",
       "        [194., 193., 198.],\n",
       "        [194., 193., 198.],\n",
       "        ...,\n",
       "        [ 34.,  22.,  10.],\n",
       "        [ 34.,  22.,  10.],\n",
       "        [ 31.,  19.,   7.]],\n",
       "\n",
       "       [[194., 193., 198.],\n",
       "        [194., 193., 198.],\n",
       "        [193., 192., 197.],\n",
       "        ...,\n",
       "        [ 26.,  16.,   6.],\n",
       "        [ 26.,  16.,   6.],\n",
       "        [ 23.,  13.,   3.]]], dtype=float32)"
      ]
     },
     "execution_count": 20,
     "metadata": {},
     "output_type": "execute_result"
    }
   ],
   "source": [
    "x"
   ]
  },
  {
   "cell_type": "code",
   "execution_count": 21,
   "id": "5186a86d",
   "metadata": {},
   "outputs": [],
   "source": [
    "x=x.reshape((1,)+x.shape)"
   ]
  },
  {
   "cell_type": "code",
   "execution_count": 22,
   "id": "be7dddf3",
   "metadata": {},
   "outputs": [
    {
     "data": {
      "text/plain": [
       "array([[[[202., 203., 207.],\n",
       "         [202., 203., 207.],\n",
       "         [202., 203., 207.],\n",
       "         ...,\n",
       "         [199., 198., 203.],\n",
       "         [199., 198., 203.],\n",
       "         [199., 198., 203.]],\n",
       "\n",
       "        [[202., 203., 207.],\n",
       "         [202., 203., 207.],\n",
       "         [202., 203., 207.],\n",
       "         ...,\n",
       "         [199., 198., 203.],\n",
       "         [199., 198., 203.],\n",
       "         [199., 198., 203.]],\n",
       "\n",
       "        [[202., 203., 207.],\n",
       "         [202., 203., 207.],\n",
       "         [202., 203., 207.],\n",
       "         ...,\n",
       "         [199., 198., 203.],\n",
       "         [199., 198., 203.],\n",
       "         [199., 198., 203.]],\n",
       "\n",
       "        ...,\n",
       "\n",
       "        [[195., 194., 199.],\n",
       "         [194., 193., 198.],\n",
       "         [194., 193., 198.],\n",
       "         ...,\n",
       "         [ 40.,  23.,   7.],\n",
       "         [ 42.,  25.,   9.],\n",
       "         [ 41.,  24.,   8.]],\n",
       "\n",
       "        [[195., 194., 199.],\n",
       "         [194., 193., 198.],\n",
       "         [194., 193., 198.],\n",
       "         ...,\n",
       "         [ 34.,  22.,  10.],\n",
       "         [ 34.,  22.,  10.],\n",
       "         [ 31.,  19.,   7.]],\n",
       "\n",
       "        [[194., 193., 198.],\n",
       "         [194., 193., 198.],\n",
       "         [193., 192., 197.],\n",
       "         ...,\n",
       "         [ 26.,  16.,   6.],\n",
       "         [ 26.,  16.,   6.],\n",
       "         [ 23.,  13.,   3.]]]], dtype=float32)"
      ]
     },
     "execution_count": 22,
     "metadata": {},
     "output_type": "execute_result"
    }
   ],
   "source": [
    "x"
   ]
  },
  {
   "cell_type": "code",
   "execution_count": 23,
   "id": "5e3ad70a",
   "metadata": {},
   "outputs": [],
   "source": [
    "i=0\n",
    "\n",
    "for batch in datagen.flow(x,batch_size=1,save_to_dir='preview',save_prefix=\"cat\",save_format='jpeg'):\n",
    "    i+=1\n",
    "    \n",
    "    if i>=20:\n",
    "        break"
   ]
  },
  {
   "cell_type": "code",
   "execution_count": null,
   "id": "94897570",
   "metadata": {},
   "outputs": [],
   "source": []
  }
 ],
 "metadata": {
  "kernelspec": {
   "display_name": "Python 3 (ipykernel)",
   "language": "python",
   "name": "python3"
  },
  "language_info": {
   "codemirror_mode": {
    "name": "ipython",
    "version": 3
   },
   "file_extension": ".py",
   "mimetype": "text/x-python",
   "name": "python",
   "nbconvert_exporter": "python",
   "pygments_lexer": "ipython3",
   "version": "3.9.7"
  }
 },
 "nbformat": 4,
 "nbformat_minor": 5
}
